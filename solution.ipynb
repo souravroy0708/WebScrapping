{
 "cells": [
  {
   "cell_type": "markdown",
   "metadata": {},
   "source": [
    "# Use web-scraping to validate if a given TIN number (Ex.07490304055)  is correct or not \n",
    "\n",
    " http://www.tinxsys.com/TinxsysInternetWeb/searchByTin_Inter.jsp\n",
    "\n",
    "#If correct, write out the available details into a text file and create a new folder in AWS S3 or Dropbox with time stamp as the name of the folder and store each text file using the APIs provided by AWS or Dropbox."
   ]
  },
  {
   "cell_type": "code",
   "execution_count": 429,
   "metadata": {
    "collapsed": true
   },
   "outputs": [],
   "source": [
    "import mechanize\n",
    "from bs4 import BeautifulSoup\n",
    "from fake_useragent import UserAgent\n",
    "import urllib2\n",
    "import pandas as pd\n",
    "import datetime\n",
    "import re\n",
    "import datetime\n",
    "import dropbox"
   ]
  },
  {
   "cell_type": "code",
   "execution_count": 430,
   "metadata": {
    "collapsed": false
   },
   "outputs": [],
   "source": [
    "def get_tin_details(TINNo):\n",
    "    \"\"\"\n",
    "    To get tin details for TIN No and return content\n",
    "    \"\"\"\n",
    "    url = \"http://www.tinxsys.com/TinxsysInternetWeb/searchByTin_Inter.jsp\"\n",
    "    br = mechanize.Browser()\n",
    "    br.set_handle_robots(False) # ignore robots\n",
    "    br.open(url)\n",
    "    br.select_form(name=\"searchByTin\")\n",
    "    br[\"tinNumber\"] = TINNo\n",
    "    br.addheaders = [('User-agent', 'Firefox')]\n",
    "    res = br.submit()\n",
    "    content = res.read()\n",
    "    soup = BeautifulSoup(content,'lxml')\n",
    "    soup.prettify()\n",
    "    table_list = soup.find_all(\"table\")\n",
    "    table_data_final = None\n",
    "    content_table = table_list[2] # In web page 3rd table have all content \n",
    "    table_data = [j.text.replace('\\r\\n', '').replace('\\n','').replace(u'\\xa0', '').strip() for j in content_table.find_all(\"tr\")]\n",
    "    table_data_final = [re.sub('\\s{4,}', ' : ', line) for line in table_data]\n",
    "    return table_data_final"
   ]
  },
  {
   "cell_type": "code",
   "execution_count": 431,
   "metadata": {
    "collapsed": false
   },
   "outputs": [],
   "source": [
    "#read input of tin no list from input.csv file"
   ]
  },
  {
   "cell_type": "code",
   "execution_count": 432,
   "metadata": {
    "collapsed": false
   },
   "outputs": [
    {
     "data": {
      "text/html": [
       "<div>\n",
       "<table border=\"1\" class=\"dataframe\">\n",
       "  <thead>\n",
       "    <tr style=\"text-align: right;\">\n",
       "      <th></th>\n",
       "      <th>TIN_NO</th>\n",
       "    </tr>\n",
       "  </thead>\n",
       "  <tbody>\n",
       "    <tr>\n",
       "      <th>0</th>\n",
       "      <td>'07490304055'</td>\n",
       "    </tr>\n",
       "    <tr>\n",
       "      <th>1</th>\n",
       "      <td>'07490304054'</td>\n",
       "    </tr>\n",
       "  </tbody>\n",
       "</table>\n",
       "</div>"
      ],
      "text/plain": [
       "          TIN_NO\n",
       "0  '07490304055'\n",
       "1  '07490304054'"
      ]
     },
     "execution_count": 432,
     "metadata": {},
     "output_type": "execute_result"
    }
   ],
   "source": [
    "input_list = pd.read_csv('input.csv')\n",
    "input_list"
   ]
  },
  {
   "cell_type": "code",
   "execution_count": 433,
   "metadata": {
    "collapsed": false
   },
   "outputs": [],
   "source": [
    "TIN_no_list = [str(i).replace(\"'\",\"\") for i in input_list.TIN_NO]"
   ]
  },
  {
   "cell_type": "code",
   "execution_count": 434,
   "metadata": {
    "collapsed": false,
    "scrolled": true
   },
   "outputs": [
    {
     "data": {
      "text/plain": [
       "['07490304055', '07490304054']"
      ]
     },
     "execution_count": 434,
     "metadata": {},
     "output_type": "execute_result"
    }
   ],
   "source": [
    "TIN_no_list"
   ]
  },
  {
   "cell_type": "markdown",
   "metadata": {},
   "source": [
    "# Manual List of TIN NO instead of read from input.csv file"
   ]
  },
  {
   "cell_type": "code",
   "execution_count": 435,
   "metadata": {
    "collapsed": true
   },
   "outputs": [],
   "source": [
    "#TIN_no_list = ['07490304055','07490304054','07490304053']"
   ]
  },
  {
   "cell_type": "code",
   "execution_count": 441,
   "metadata": {
    "collapsed": true
   },
   "outputs": [],
   "source": [
    "def write_outputin_dropbox(file_name,content):\n",
    "    \"\"\"\n",
    "    Replace access token with your app auth access token\n",
    "    \"\"\"\n",
    "    access_token = 'XXXXXXXXXXXXXXXXXXXXXXXXXXXXXXXXXXXXXXXXXXXXX'\n",
    "    client = dropbox.client.DropboxClient(access_token)\n",
    "    response = client.put_file(file_name,content)\n",
    "    print response"
   ]
  },
  {
   "cell_type": "code",
   "execution_count": 442,
   "metadata": {
    "collapsed": false
   },
   "outputs": [],
   "source": [
    "def write_tin_details():\n",
    "    \"\"\"\n",
    "    Write tin details for all TIN NO in input.csv file \n",
    "    \"\"\"\n",
    "    current_timestamp = str(datetime.datetime.now())\n",
    "    for TIN_NO in TIN_no_list:\n",
    "        try:\n",
    "            content = get_tin_details(TIN_NO) \n",
    "            file_name = \"outout_%s_%s.txt\" %(TIN_NO,current_timestamp)\n",
    "            content_text = \",\".join(content)\n",
    "            write_outputin_dropbox(file_name,content_text)\n",
    "            \n",
    "            #Write all output in output.txt file with timestamp   \n",
    "            #pd.DataFrame({'content':content,'timestamp':current_timestamp}).to_csv('output.txt',mode='a',index=False)\n",
    "    \n",
    "            #To write output in different different txt file as TIN_NO_TIMESTAMP.txt\n",
    "            # pd.DataFrame({'content':content,'timestamp':current_timestamp}).to_csv(file_name,header=['content','timestamp'],index=False)\n",
    "        except:\n",
    "            print \"Not able to get TIN details for TIN NO %s \" %(TIN_NO)\n",
    "    \n",
    "    print \"Operation compleated successfully\"      "
   ]
  },
  {
   "cell_type": "code",
   "execution_count": 443,
   "metadata": {
    "collapsed": false,
    "scrolled": true
   },
   "outputs": [
    {
     "name": "stderr",
     "output_type": "stream",
     "text": [
      "/root/anaconda2/lib/python2.7/site-packages/ipykernel/__main__.py:6: DeprecationWarning: You are using a deprecated client. Please use the new v2 client located at dropbox.Dropbox.\n"
     ]
    },
    {
     "name": "stdout",
     "output_type": "stream",
     "text": [
      "{u'icon': u'page_white_text', u'bytes': 388, u'thumb_exists': False, u'rev': u'31441cc39a', u'modified': u'Sun, 11 Dec 2016 12:52:43 +0000', u'shareable': False, u'client_mtime': u'Sun, 11 Dec 2016 12:52:43 +0000', u'path': u'/outout_07490304055_2016-12-11 18:22:40.590358.txt', u'is_dir': False, u'size': u'388 bytes', u'root': u'dropbox', u'mime_type': u'text/plain', u'revision': 49}\n",
      "{u'icon': u'page_white_text', u'bytes': 49, u'thumb_exists': False, u'rev': u'32441cc39a', u'modified': u'Sun, 11 Dec 2016 12:52:44 +0000', u'shareable': False, u'client_mtime': u'Sun, 11 Dec 2016 12:52:44 +0000', u'path': u'/outout_07490304054_2016-12-11 18:22:40.590358.txt', u'is_dir': False, u'size': u'49 bytes', u'root': u'dropbox', u'mime_type': u'text/plain', u'revision': 50}\n",
      "Operation compleated successfully\n"
     ]
    }
   ],
   "source": [
    "#Execute main function\n",
    "write_tin_details()"
   ]
  },
  {
   "cell_type": "code",
   "execution_count": null,
   "metadata": {
    "collapsed": true
   },
   "outputs": [],
   "source": []
  },
  {
   "cell_type": "code",
   "execution_count": null,
   "metadata": {
    "collapsed": true
   },
   "outputs": [],
   "source": []
  }
 ],
 "metadata": {
  "anaconda-cloud": {},
  "kernelspec": {
   "display_name": "Python [default]",
   "language": "python",
   "name": "python2"
  },
  "language_info": {
   "codemirror_mode": {
    "name": "ipython",
    "version": 2
   },
   "file_extension": ".py",
   "mimetype": "text/x-python",
   "name": "python",
   "nbconvert_exporter": "python",
   "pygments_lexer": "ipython2",
   "version": "2.7.12"
  }
 },
 "nbformat": 4,
 "nbformat_minor": 1
}
